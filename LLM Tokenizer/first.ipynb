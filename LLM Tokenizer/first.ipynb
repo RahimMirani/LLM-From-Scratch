{
 "cells": [
  {
   "cell_type": "markdown",
   "id": "9dc2ed1c",
   "metadata": {},
   "source": [
    "# LLM Tokenizer "
   ]
  },
  {
   "cell_type": "markdown",
   "id": "e27e706a",
   "metadata": {},
   "source": [
    "1. Creating Tokens"
   ]
  },
  {
   "cell_type": "code",
   "execution_count": 7,
   "id": "102e9e77",
   "metadata": {},
   "outputs": [
    {
     "name": "stdout",
     "output_type": "stream",
     "text": [
      "Total characters: 20479\n",
      "I HAD always thought Jack Gisburn rather a cheap genius--though a good fellow enough--so it was no g\n"
     ]
    }
   ],
   "source": [
    "with open(\"the-verdict.txt\", encoding=\"utf-8\") as f:\n",
    "    raw_text = f.read()\n",
    "\n",
    "print(\"Total characters:\", len(raw_text))\n",
    "print(raw_text[:100])"
   ]
  },
  {
   "cell_type": "code",
   "execution_count": 16,
   "id": "b591c5aa",
   "metadata": {},
   "outputs": [
    {
     "name": "stdout",
     "output_type": "stream",
     "text": [
      "['I', 'HAD', 'always', 'thought', 'Jack', 'Gisburn', 'rather', 'a', 'cheap', 'genius--though', 'a', 'good', 'fellow', 'enough--so', 'it', 'was', 'no', 'great', 'surprise', 'to', 'me', 'to', 'hear', 'that', ',', 'in', 'the', 'height', 'of', 'his', 'glory', ',', 'he', 'had', 'dropped', 'his', 'painting', ',', 'married', 'a', 'rich', 'widow', ',', 'and', 'established', 'himself', 'in', 'a', 'villa', 'on', 'the', 'Riviera', '.', '(Though', 'I', 'rather', 'thought', 'it', 'would', 'have', 'been', 'Rome', 'or', 'Florence.)', '\"The', 'height', 'of', 'his', 'glory\"--that', 'was', 'what', 'the', 'women', 'called', 'it', '.', 'I', 'can', 'hear', 'Mrs', '.', 'Gideon', 'Thwing--his', 'last', 'Chicago', 'sitter--deploring', 'his', 'unaccountable', 'abdication', '.', '\"Of', 'course', \"it's\", 'going', 'to', 'send', 'the', 'value', 'of', 'my']\n"
     ]
    }
   ],
   "source": [
    "import re\n",
    "\n",
    "#This code uses re library to split the text first, and takes all the words and punctuations as a seperate token.\n",
    "# It then removes the white spaces and then keeps the words seperate as tokens\n",
    "\n",
    "preprocessed = re.split(r'([,.:;?_!\"()\\'] |\\s)', raw_text)\n",
    "preprocessed = [item.strip() for item in preprocessed if item.strip()]\n",
    "print(preprocessed[:100])"
   ]
  },
  {
   "cell_type": "markdown",
   "id": "67380a30",
   "metadata": {},
   "source": [
    "2. Converting token into Token IDs"
   ]
  },
  {
   "cell_type": "code",
   "execution_count": 17,
   "id": "2502f1e7",
   "metadata": {},
   "outputs": [
    {
     "name": "stdout",
     "output_type": "stream",
     "text": [
      "1316\n"
     ]
    }
   ],
   "source": [
    "all_unique_words = sorted(set(preprocessed))\n",
    "vocab_size = len(all_unique_words)\n",
    "\n",
    "print(vocab_size)"
   ]
  },
  {
   "cell_type": "code",
   "execution_count": 18,
   "id": "af722a5a",
   "metadata": {},
   "outputs": [
    {
     "name": "stdout",
     "output_type": "stream",
     "text": [
      "('!', 0)\n",
      "('\"', 1)\n",
      "('\"Ah', 2)\n",
      "('\"Ah--I', 3)\n",
      "('\"Be', 4)\n",
      "('\"By', 5)\n",
      "('\"Come', 6)\n",
      "('\"Destroyed', 7)\n",
      "('\"Don\\'t', 8)\n",
      "('\"Gisburns', 9)\n",
      "('\"Grindles.\"', 10)\n"
     ]
    }
   ],
   "source": [
    "#Assigning token ids to words\n",
    "\n",
    "vocab = {token:integer for integer, token in enumerate(all_unique_words)}\n",
    "\n",
    "for i, item in enumerate(vocab.items()):\n",
    "    print(item)\n",
    "    if i>=10:\n",
    "        break "
   ]
  },
  {
   "cell_type": "markdown",
   "id": "c4c05b00",
   "metadata": {},
   "source": [
    "Creating a simple tokeinzer class for encoding and decoding\n",
    "It will have encoding and decoding methods"
   ]
  }
 ],
 "metadata": {
  "kernelspec": {
   "display_name": "venv",
   "language": "python",
   "name": "python3"
  },
  "language_info": {
   "codemirror_mode": {
    "name": "ipython",
    "version": 3
   },
   "file_extension": ".py",
   "mimetype": "text/x-python",
   "name": "python",
   "nbconvert_exporter": "python",
   "pygments_lexer": "ipython3",
   "version": "3.12.4"
  }
 },
 "nbformat": 4,
 "nbformat_minor": 5
}
